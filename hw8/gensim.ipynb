{
 "cells": [
  {
   "cell_type": "code",
   "execution_count": 1,
   "id": "79a6c669",
   "metadata": {},
   "outputs": [
    {
     "name": "stderr",
     "output_type": "stream",
     "text": [
      "C:\\Users\\user\\miniconda3\\envs\\pytorch\\lib\\site-packages\\gensim\\similarities\\__init__.py:15: UserWarning: The gensim.similarities.levenshtein submodule is disabled, because the optional Levenshtein package <https://pypi.org/project/python-Levenshtein/> is unavailable. Install Levenhstein (e.g. `pip install python-Levenshtein`) to suppress this warning.\n",
      "  warnings.warn(msg)\n"
     ]
    }
   ],
   "source": [
    "from collections import defaultdict\n",
    "from gensim import corpora\n",
    "\n",
    "documents = [\n",
    "    \"Human machine interface for lab abc computer applications\",\n",
    "    \"A survey of user opinion of computer system response time\",\n",
    "    \"The EPS user interface management system\",\n",
    "    \"System and human system engineering testing of EPS\",\n",
    "    \"Relation of user perceived response time to error measurement\",\n",
    "    \"The generation of random binary unordered trees\",\n",
    "    \"The intersection graph of paths in trees\",\n",
    "    \"Graph minors IV Widths of trees and well quasi ordering\",\n",
    "    \"Graph minors A survey\",\n",
    "]\n",
    "\n",
    "# remove common words and tokenize\n",
    "stoplist = set('for a of the and to in'.split())\n",
    "texts = [\n",
    "    [word for word in document.lower().split() if word not in stoplist]\n",
    "    for document in documents\n",
    "]\n",
    "\n",
    "# remove words that appear only once\n",
    "frequency = defaultdict(int)\n",
    "for text in texts:\n",
    "    for token in text:\n",
    "        frequency[token] += 1\n",
    "\n",
    "texts = [\n",
    "    [token for token in text if frequency[token] > 1]\n",
    "    for text in texts\n",
    "]\n",
    "\n",
    "dictionary = corpora.Dictionary(texts)\n",
    "corpus = [dictionary.doc2bow(text) for text in texts]"
   ]
  },
  {
   "cell_type": "markdown",
   "id": "5fad66bb",
   "metadata": {},
   "source": [
    "### num_top=2"
   ]
  },
  {
   "cell_type": "code",
   "execution_count": 2,
   "id": "70b37428",
   "metadata": {},
   "outputs": [],
   "source": [
    "from gensim import models\n",
    "lsi = models.LsiModel(corpus, id2word=dictionary, num_topics=2)"
   ]
  },
  {
   "cell_type": "code",
   "execution_count": 3,
   "id": "142b488f",
   "metadata": {},
   "outputs": [
    {
     "name": "stdout",
     "output_type": "stream",
     "text": [
      "[(0, 0.4618210045327159), (1, -0.07002766527900021)]\n"
     ]
    }
   ],
   "source": [
    "doc = \"Human computer interaction\"\n",
    "vec_bow = dictionary.doc2bow(doc.lower().split())\n",
    "vec_lsi = lsi[vec_bow]  # convert the query to LSI space\n",
    "print(vec_lsi)"
   ]
  },
  {
   "cell_type": "code",
   "execution_count": 4,
   "id": "67fdc2e8",
   "metadata": {},
   "outputs": [],
   "source": [
    "from gensim import similarities\n",
    "index = similarities.MatrixSimilarity(lsi[corpus])"
   ]
  },
  {
   "cell_type": "code",
   "execution_count": 5,
   "id": "e4e98e96",
   "metadata": {},
   "outputs": [
    {
     "name": "stdout",
     "output_type": "stream",
     "text": [
      "[(0, 0.998093), (1, 0.93748635), (2, 0.9984453), (3, 0.9865886), (4, 0.90755945), (5, -0.12416792), (6, -0.10639259), (7, -0.09879464), (8, 0.050041765)]\n"
     ]
    }
   ],
   "source": [
    "sims = index[vec_lsi]  # perform a similarity query against the corpus\n",
    "print(list(enumerate(sims)))  # print (document_number, document_similarity) 2-tuples"
   ]
  },
  {
   "cell_type": "code",
   "execution_count": 6,
   "id": "a928c409",
   "metadata": {},
   "outputs": [
    {
     "name": "stdout",
     "output_type": "stream",
     "text": [
      "0.9984453 The EPS user interface management system\n",
      "0.998093 Human machine interface for lab abc computer applications\n",
      "0.9865886 System and human system engineering testing of EPS\n",
      "0.93748635 A survey of user opinion of computer system response time\n",
      "0.90755945 Relation of user perceived response time to error measurement\n",
      "0.050041765 Graph minors A survey\n",
      "-0.09879464 Graph minors IV Widths of trees and well quasi ordering\n",
      "-0.10639259 The intersection graph of paths in trees\n",
      "-0.12416792 The generation of random binary unordered trees\n"
     ]
    }
   ],
   "source": [
    "sims = sorted(enumerate(sims), key=lambda item: -item[1])\n",
    "for doc_position, doc_score in sims:\n",
    "    print(doc_score, documents[doc_position])"
   ]
  },
  {
   "cell_type": "markdown",
   "id": "3731a61f",
   "metadata": {},
   "source": [
    "### num_top=5"
   ]
  },
  {
   "cell_type": "code",
   "execution_count": 7,
   "id": "dd5840bf",
   "metadata": {},
   "outputs": [],
   "source": [
    "from gensim import models\n",
    "lsi2 = models.LsiModel(corpus, id2word=dictionary, num_topics=5)"
   ]
  },
  {
   "cell_type": "code",
   "execution_count": 8,
   "id": "7021fc17",
   "metadata": {},
   "outputs": [
    {
     "name": "stdout",
     "output_type": "stream",
     "text": [
      "[(0, 0.46182100453271624), (1, -0.07002766527900016), (2, -0.12452907551899134), (3, 1.0097125584438558), (4, -0.21303040605626491)]\n"
     ]
    }
   ],
   "source": [
    "vec_lsi2 = lsi2[vec_bow]  # convert the query to LSI space\n",
    "print(vec_lsi2)"
   ]
  },
  {
   "cell_type": "code",
   "execution_count": 9,
   "id": "ed44c3a6",
   "metadata": {},
   "outputs": [],
   "source": [
    "from gensim import similarities\n",
    "index2 = similarities.MatrixSimilarity(lsi2[corpus])"
   ]
  },
  {
   "cell_type": "code",
   "execution_count": 10,
   "id": "e3001bbf",
   "metadata": {},
   "outputs": [
    {
     "name": "stdout",
     "output_type": "stream",
     "text": [
      "[(0, 0.9727242), (1, 0.31977737), (2, 0.30448094), (3, 0.24447846), (4, -0.04838742), (5, -0.16497499), (6, -0.09127023), (7, -0.03274583), (8, 0.15309833)]\n"
     ]
    }
   ],
   "source": [
    "sims2 = index2[vec_lsi2]  # perform a similarity query against the corpus\n",
    "print(list(enumerate(sims2)))  # print (document_number, document_similarity) 2-tuples"
   ]
  },
  {
   "cell_type": "code",
   "execution_count": 11,
   "id": "9be899ad",
   "metadata": {},
   "outputs": [
    {
     "name": "stdout",
     "output_type": "stream",
     "text": [
      "0.9727242 Human machine interface for lab abc computer applications\n",
      "0.31977737 A survey of user opinion of computer system response time\n",
      "0.30448094 The EPS user interface management system\n",
      "0.24447846 System and human system engineering testing of EPS\n",
      "0.15309833 Graph minors A survey\n",
      "-0.03274583 Graph minors IV Widths of trees and well quasi ordering\n",
      "-0.04838742 Relation of user perceived response time to error measurement\n",
      "-0.09127023 The intersection graph of paths in trees\n",
      "-0.16497499 The generation of random binary unordered trees\n"
     ]
    }
   ],
   "source": [
    "sims2 = sorted(enumerate(sims2), key=lambda item: -item[1])\n",
    "for doc_position, doc_score in sims2:\n",
    "    print(doc_score, documents[doc_position])"
   ]
  },
  {
   "cell_type": "markdown",
   "id": "180b13f2",
   "metadata": {},
   "source": [
    "### Tf-idf -> LSA"
   ]
  },
  {
   "cell_type": "code",
   "execution_count": 12,
   "id": "197e818f",
   "metadata": {},
   "outputs": [
    {
     "name": "stdout",
     "output_type": "stream",
     "text": [
      "[(0, 0.7071067811865476), (1, 0.7071067811865476)]\n"
     ]
    }
   ],
   "source": [
    "tfidf = models.TfidfModel(corpus) \n",
    "print(tfidf[vec_bow])"
   ]
  },
  {
   "cell_type": "code",
   "execution_count": 13,
   "id": "e9c03319",
   "metadata": {},
   "outputs": [],
   "source": [
    "corpus_tfidf = tfidf[corpus]"
   ]
  },
  {
   "cell_type": "code",
   "execution_count": 14,
   "id": "35585a47",
   "metadata": {},
   "outputs": [],
   "source": [
    "lsi_model = models.LsiModel(corpus_tfidf, id2word=dictionary, num_topics=2)  # initialize an LSI transformation\n",
    "corpus_lsi = lsi_model[corpus_tfidf]"
   ]
  },
  {
   "cell_type": "code",
   "execution_count": 15,
   "id": "6cb0f141",
   "metadata": {},
   "outputs": [
    {
     "name": "stdout",
     "output_type": "stream",
     "text": [
      "[(0, 0.06600783396090493), (1, -0.5200703306361845)] Human machine interface for lab abc computer applications\n",
      "[(0, 0.1966759285914266), (1, -0.7609563167700043)] A survey of user opinion of computer system response time\n",
      "[(0, 0.08992639972446609), (1, -0.7241860626752505)] The EPS user interface management system\n",
      "[(0, 0.0758584765217832), (1, -0.6320551586003427)] System and human system engineering testing of EPS\n",
      "[(0, 0.1015029918498025), (1, -0.5737308483002954)] Relation of user perceived response time to error measurement\n",
      "[(0, 0.7032108939378309), (1, 0.1611518021402598)] The generation of random binary unordered trees\n",
      "[(0, 0.877478767311983), (1, 0.16758906864659623)] The intersection graph of paths in trees\n",
      "[(0, 0.9098624686818577), (1, 0.14086553628719217)] Graph minors IV Widths of trees and well quasi ordering\n",
      "[(0, 0.6165825350569283), (1, -0.053929075663892635)] Graph minors A survey\n"
     ]
    }
   ],
   "source": [
    "for doc, as_text in zip(corpus_lsi, documents):\n",
    "    print(doc, as_text)"
   ]
  },
  {
   "cell_type": "code",
   "execution_count": 16,
   "id": "5035de5a",
   "metadata": {},
   "outputs": [
    {
     "name": "stdout",
     "output_type": "stream",
     "text": [
      "0.9999428 The EPS user interface management system\n",
      "0.9999408 Human machine interface for lab abc computer applications\n",
      "0.999879 System and human system engineering testing of EPS\n",
      "0.99935204 Relation of user perceived response time to error measurement\n",
      "0.9946708 A survey of user opinion of computer system response time\n",
      "0.1938726 Graph minors A survey\n",
      "-0.023664713 Graph minors IV Widths of trees and well quasi ordering\n",
      "-0.0515742 The intersection graph of paths in trees\n",
      "-0.08804217 The generation of random binary unordered trees\n"
     ]
    }
   ],
   "source": [
    "index = similarities.MatrixSimilarity(lsi_model[corpus])\n",
    "vec_tfidf = tfidf[vec_bow]\n",
    "vec_lsi = lsi_model[vec_tfidf]\n",
    "sims = index[vec_lsi]\n",
    "sims = sorted(enumerate(sims), key=lambda item: -item[1])\n",
    "for doc_position, doc_score in sims:\n",
    "    print(doc_score, documents[doc_position])"
   ]
  }
 ],
 "metadata": {
  "kernelspec": {
   "display_name": "Python 3",
   "language": "python",
   "name": "python3"
  },
  "language_info": {
   "codemirror_mode": {
    "name": "ipython",
    "version": 3
   },
   "file_extension": ".py",
   "mimetype": "text/x-python",
   "name": "python",
   "nbconvert_exporter": "python",
   "pygments_lexer": "ipython3",
   "version": "3.9.6"
  }
 },
 "nbformat": 4,
 "nbformat_minor": 5
}
