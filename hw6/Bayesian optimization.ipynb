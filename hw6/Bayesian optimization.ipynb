{
 "cells": [
  {
   "cell_type": "code",
   "execution_count": 1,
   "id": "8ac41a36",
   "metadata": {},
   "outputs": [],
   "source": [
    "import pandas as pd\n",
    "import skopt"
   ]
  },
  {
   "cell_type": "code",
   "execution_count": 2,
   "id": "022cf8b8",
   "metadata": {},
   "outputs": [
    {
     "name": "stdout",
     "output_type": "stream",
     "text": [
      "(351, 34) (351,)\n"
     ]
    }
   ],
   "source": [
    "# load dataset\n",
    "url = 'https://raw.githubusercontent.com/jbrownlee/Datasets/master/ionosphere.csv'\n",
    "dataframe = pd.read_csv(url, header=None)\n",
    "# split into input and output elements\n",
    "data = dataframe.values\n",
    "X, y = data[:, :-1], data[:, -1]\n",
    "print(X.shape, y.shape)"
   ]
  },
  {
   "cell_type": "code",
   "execution_count": 3,
   "id": "e5657c4a",
   "metadata": {},
   "outputs": [],
   "source": [
    "# define the space of hyperparameters to search\n",
    "from skopt.space import Real, Categorical, Integer\n",
    "search_space = list()\n",
    "search_space.append(Real(1e-6, 100.0, 'log-uniform', name='C'))\n",
    "search_space.append(Categorical(['linear', 'poly', 'rbf', 'sigmoid'], name='kernel'))\n",
    "search_space.append(Integer(1, 5, name='degree'))\n",
    "search_space.append(Real(1e-6, 100.0, 'log-uniform', name='gamma'))"
   ]
  },
  {
   "cell_type": "code",
   "execution_count": 4,
   "id": "8df0d59a",
   "metadata": {},
   "outputs": [],
   "source": [
    "from skopt.utils import use_named_args\n",
    "from skopt import gp_minimize\n",
    "from sklearn.model_selection import cross_val_score\n",
    "from sklearn.model_selection import RepeatedStratifiedKFold\n",
    "from sklearn.svm import SVC\n",
    "import numpy as np\n",
    "\n",
    "@use_named_args(search_space)\n",
    "def evaluate_model(**params):\n",
    "    # configure the model with specific hyperparameters\n",
    "    model = SVC()\n",
    "    model.set_params(**params)\n",
    "    print(params)\n",
    "    # define test harness\n",
    "    cv = RepeatedStratifiedKFold(n_splits=10, n_repeats=3, random_state=1)\n",
    "    # calculate 5-fold cross validation\n",
    "    result = cross_val_score(model, X, y, cv=cv, n_jobs=-1, scoring='accuracy')\n",
    "    estimate = np.mean(result)\n",
    "    # convert from a maximizing score to a minimizing score\n",
    "    return 1.0 - estimate\n",
    "\n"
   ]
  },
  {
   "cell_type": "code",
   "execution_count": 5,
   "id": "1adf3afa",
   "metadata": {},
   "outputs": [
    {
     "name": "stdout",
     "output_type": "stream",
     "text": [
      "{'C': 12.351293205610316, 'kernel': 'rbf', 'degree': 2, 'gamma': 0.003405157503869575}\n",
      "{'C': 0.06067218187426075, 'kernel': 'rbf', 'degree': 4, 'gamma': 0.00029918444981328804}\n",
      "{'C': 0.0033080247089509293, 'kernel': 'poly', 'degree': 1, 'gamma': 0.0007629783995015235}\n",
      "{'C': 0.00023739558720687636, 'kernel': 'linear', 'degree': 5, 'gamma': 2.5522337930488416e-06}\n",
      "{'C': 5.531062173415998e-05, 'kernel': 'rbf', 'degree': 3, 'gamma': 2.4441020508277914e-06}\n",
      "{'C': 13.124636720745386, 'kernel': 'rbf', 'degree': 3, 'gamma': 0.06533213007097796}\n",
      "{'C': 0.0045089407516935385, 'kernel': 'linear', 'degree': 3, 'gamma': 0.020820881750815316}\n",
      "{'C': 0.5173453572898051, 'kernel': 'rbf', 'degree': 3, 'gamma': 5.322606103572869e-05}\n",
      "{'C': 8.68044150421356e-05, 'kernel': 'poly', 'degree': 2, 'gamma': 0.0004551953343151619}\n",
      "{'C': 0.0049263015338848635, 'kernel': 'rbf', 'degree': 5, 'gamma': 0.0930278544656824}\n",
      "{'C': 99.50502591187268, 'kernel': 'rbf', 'degree': 3, 'gamma': 5.1188050470184105}\n",
      "{'C': 12.443780989298984, 'kernel': 'poly', 'degree': 4, 'gamma': 5.055155673119049}\n",
      "{'C': 12.274688194626496, 'kernel': 'sigmoid', 'degree': 5, 'gamma': 0.34766356835249335}\n",
      "{'C': 14.593819093132009, 'kernel': 'rbf', 'degree': 5, 'gamma': 1.0713907732184556e-05}\n",
      "{'C': 12.958426111551804, 'kernel': 'rbf', 'degree': 3, 'gamma': 0.031168039574333353}\n",
      "{'C': 8.63190594130993, 'kernel': 'poly', 'degree': 3, 'gamma': 0.0001672677722281677}\n",
      "{'C': 9.74508348467212, 'kernel': 'rbf', 'degree': 3, 'gamma': 0.05699476534837755}\n",
      "{'C': 7.511762840083371, 'kernel': 'rbf', 'degree': 1, 'gamma': 0.04361894769256933}\n",
      "{'C': 0.24115269241822945, 'kernel': 'poly', 'degree': 1, 'gamma': 100.0}\n",
      "{'C': 0.00017805301562849986, 'kernel': 'poly', 'degree': 4, 'gamma': 100.0}\n",
      "{'C': 100.0, 'kernel': 'poly', 'degree': 5, 'gamma': 100.0}\n",
      "{'C': 0.49422372077581156, 'kernel': 'poly', 'degree': 4, 'gamma': 100.0}\n",
      "{'C': 75.13932076977031, 'kernel': 'linear', 'degree': 2, 'gamma': 41.69508643899124}\n",
      "{'C': 1.2032655911533732, 'kernel': 'rbf', 'degree': 2, 'gamma': 0.05757976559910161}\n",
      "{'C': 3.2234536590522973, 'kernel': 'rbf', 'degree': 1, 'gamma': 0.018644122876003894}\n",
      "{'C': 87.95595300700477, 'kernel': 'sigmoid', 'degree': 1, 'gamma': 0.022513867782452374}\n",
      "{'C': 100.0, 'kernel': 'rbf', 'degree': 2, 'gamma': 0.044181210274069585}\n",
      "{'C': 1e-06, 'kernel': 'rbf', 'degree': 1, 'gamma': 0.08961859570000295}\n",
      "{'C': 6.667426980400057, 'kernel': 'rbf', 'degree': 5, 'gamma': 0.052872626546154704}\n",
      "{'C': 0.01275238305541831, 'kernel': 'linear', 'degree': 1, 'gamma': 100.0}\n",
      "{'C': 7.680801276653287, 'kernel': 'rbf', 'degree': 1, 'gamma': 0.07657785215199014}\n",
      "{'C': 6.053530744645671, 'kernel': 'rbf', 'degree': 1, 'gamma': 0.08613131071730072}\n",
      "{'C': 100.0, 'kernel': 'rbf', 'degree': 1, 'gamma': 0.0040241285129629465}\n",
      "{'C': 100.0, 'kernel': 'sigmoid', 'degree': 1, 'gamma': 0.000550932414149293}\n",
      "{'C': 5.217660239010034, 'kernel': 'rbf', 'degree': 1, 'gamma': 0.0928187438840457}\n",
      "{'C': 5.657971517193221, 'kernel': 'poly', 'degree': 1, 'gamma': 0.08692224578346296}\n",
      "{'C': 0.011851993367400896, 'kernel': 'poly', 'degree': 1, 'gamma': 100.0}\n",
      "{'C': 1e-06, 'kernel': 'linear', 'degree': 1, 'gamma': 100.0}\n",
      "{'C': 100.0, 'kernel': 'linear', 'degree': 1, 'gamma': 0.46202938803000926}\n",
      "{'C': 1.8712557724986159, 'kernel': 'linear', 'degree': 1, 'gamma': 100.0}\n",
      "{'C': 1e-06, 'kernel': 'rbf', 'degree': 1, 'gamma': 100.0}\n",
      "{'C': 0.07317473886043378, 'kernel': 'poly', 'degree': 1, 'gamma': 5.234574880550591}\n",
      "{'C': 1.1174456091469729, 'kernel': 'linear', 'degree': 1, 'gamma': 2.4070434250749173}\n",
      "{'C': 4.364490452845847, 'kernel': 'rbf', 'degree': 1, 'gamma': 0.08658922822748949}\n",
      "{'C': 1e-06, 'kernel': 'sigmoid', 'degree': 2, 'gamma': 1e-06}\n",
      "{'C': 100.0, 'kernel': 'linear', 'degree': 3, 'gamma': 1e-06}\n",
      "{'C': 100.0, 'kernel': 'linear', 'degree': 1, 'gamma': 0.0006894412609602195}\n",
      "{'C': 4.597146239494777, 'kernel': 'rbf', 'degree': 2, 'gamma': 0.08612443630968357}\n",
      "{'C': 100.0, 'kernel': 'sigmoid', 'degree': 1, 'gamma': 1e-06}\n",
      "{'C': 100.0, 'kernel': 'linear', 'degree': 5, 'gamma': 2.353777608251242e-05}\n",
      "{'C': 5.008002454905297, 'kernel': 'rbf', 'degree': 1, 'gamma': 0.0892044491272584}\n",
      "{'C': 100.0, 'kernel': 'poly', 'degree': 1, 'gamma': 0.057395755756341184}\n",
      "{'C': 1e-06, 'kernel': 'poly', 'degree': 1, 'gamma': 1.217208456282526}\n",
      "{'C': 4.753863633134396, 'kernel': 'rbf', 'degree': 1, 'gamma': 0.11147585209887771}\n",
      "{'C': 1e-06, 'kernel': 'poly', 'degree': 1, 'gamma': 1e-06}\n",
      "{'C': 100.0, 'kernel': 'rbf', 'degree': 1, 'gamma': 0.004996870635000692}\n",
      "{'C': 100.0, 'kernel': 'linear', 'degree': 5, 'gamma': 0.016283576957167617}\n",
      "{'C': 4.693786373767025, 'kernel': 'rbf', 'degree': 1, 'gamma': 0.0950208656227007}\n",
      "{'C': 1.632487076576719, 'kernel': 'linear', 'degree': 1, 'gamma': 1e-06}\n",
      "{'C': 1.6295941475043914, 'kernel': 'linear', 'degree': 1, 'gamma': 6.651752896251749e-05}\n",
      "{'C': 100.0, 'kernel': 'rbf', 'degree': 4, 'gamma': 0.0035744865764498614}\n",
      "{'C': 3.4382946228271307, 'kernel': 'linear', 'degree': 1, 'gamma': 0.020865617524917713}\n",
      "{'C': 1e-06, 'kernel': 'sigmoid', 'degree': 1, 'gamma': 0.0039572377377889816}\n",
      "{'C': 4.956675328840179, 'kernel': 'rbf', 'degree': 1, 'gamma': 0.1269430283616759}\n",
      "{'C': 1e-06, 'kernel': 'sigmoid', 'degree': 1, 'gamma': 100.0}\n",
      "{'C': 4.541919269478871, 'kernel': 'rbf', 'degree': 1, 'gamma': 0.10775153063218719}\n",
      "{'C': 4.553698696684434, 'kernel': 'rbf', 'degree': 1, 'gamma': 0.10939821994541747}\n",
      "{'C': 4.4240952123093615, 'kernel': 'rbf', 'degree': 1, 'gamma': 0.14860726333084423}\n",
      "{'C': 4.850063089950748, 'kernel': 'rbf', 'degree': 1, 'gamma': 0.130238559494957}\n",
      "{'C': 4.542256934950718, 'kernel': 'rbf', 'degree': 1, 'gamma': 0.10365234173249267}\n",
      "{'C': 4.95130229123448, 'kernel': 'rbf', 'degree': 1, 'gamma': 0.13150500334446735}\n",
      "{'C': 100.0, 'kernel': 'rbf', 'degree': 1, 'gamma': 0.00343893160041173}\n",
      "{'C': 4.870081650730161, 'kernel': 'rbf', 'degree': 1, 'gamma': 0.13363515696003478}\n",
      "{'C': 4.934681421584289, 'kernel': 'rbf', 'degree': 1, 'gamma': 0.1351301602845702}\n",
      "{'C': 4.557791093502613, 'kernel': 'rbf', 'degree': 1, 'gamma': 0.1071435654643334}\n",
      "{'C': 4.511648132837499, 'kernel': 'rbf', 'degree': 1, 'gamma': 0.10702070083474267}\n",
      "{'C': 4.467037948679678, 'kernel': 'rbf', 'degree': 1, 'gamma': 0.10697001501829453}\n",
      "{'C': 4.8967916258788815, 'kernel': 'rbf', 'degree': 1, 'gamma': 0.13362658537040026}\n",
      "{'C': 4.977093665556128, 'kernel': 'rbf', 'degree': 1, 'gamma': 0.13415403689712713}\n",
      "{'C': 5.014609271464296, 'kernel': 'rbf', 'degree': 1, 'gamma': 0.13369867433491614}\n",
      "{'C': 5.051868019509876, 'kernel': 'rbf', 'degree': 1, 'gamma': 0.13323019092067306}\n",
      "{'C': 5.088189991412529, 'kernel': 'rbf', 'degree': 1, 'gamma': 0.13274292013844713}\n",
      "{'C': 4.518638871489532, 'kernel': 'rbf', 'degree': 1, 'gamma': 0.10764260471319999}\n",
      "{'C': 4.5257133908219584, 'kernel': 'rbf', 'degree': 1, 'gamma': 0.1075914530580104}\n",
      "{'C': 6.837503194453311, 'kernel': 'rbf', 'degree': 1, 'gamma': 0.1269243582638203}\n",
      "{'C': 3.3132482251130457, 'kernel': 'rbf', 'degree': 1, 'gamma': 0.11993500319061465}\n",
      "{'C': 2.849651164753597, 'kernel': 'rbf', 'degree': 1, 'gamma': 0.14948445546242167}\n",
      "{'C': 4.1769562734795915, 'kernel': 'linear', 'degree': 5, 'gamma': 0.0010180654874361369}\n",
      "{'C': 0.028268275914802216, 'kernel': 'rbf', 'degree': 1, 'gamma': 100.0}\n",
      "{'C': 100.0, 'kernel': 'poly', 'degree': 1, 'gamma': 100.0}\n",
      "{'C': 3.145904741588098, 'kernel': 'rbf', 'degree': 1, 'gamma': 0.15285259639627938}\n",
      "{'C': 1e-06, 'kernel': 'linear', 'degree': 1, 'gamma': 0.0009548353609151572}\n",
      "{'C': 3.3466066574369395, 'kernel': 'rbf', 'degree': 1, 'gamma': 0.14659593845101315}\n",
      "{'C': 3.441874611689636, 'kernel': 'rbf', 'degree': 1, 'gamma': 0.1442789395120604}\n",
      "{'C': 3.502812314424078, 'kernel': 'rbf', 'degree': 1, 'gamma': 0.14297421317428688}\n",
      "{'C': 4.1525485783557485, 'kernel': 'rbf', 'degree': 1, 'gamma': 0.10834758040976857}\n",
      "{'C': 3.5311771046393243, 'kernel': 'rbf', 'degree': 1, 'gamma': 0.14267784343867995}\n",
      "{'C': 3.715586226916934, 'kernel': 'rbf', 'degree': 2, 'gamma': 0.11114549839466589}\n",
      "{'C': 100.0, 'kernel': 'rbf', 'degree': 1, 'gamma': 0.0036235091185965415}\n",
      "{'C': 3.6215465775279205, 'kernel': 'rbf', 'degree': 1, 'gamma': 0.14093735756281683}\n"
     ]
    }
   ],
   "source": [
    "result = gp_minimize(evaluate_model, search_space)"
   ]
  },
  {
   "cell_type": "code",
   "execution_count": 6,
   "id": "3125c26f",
   "metadata": {},
   "outputs": [
    {
     "name": "stdout",
     "output_type": "stream",
     "text": [
      "Best Accuracy: 0.953\n",
      "Best Parameters: [9.74508348467212, 'rbf', 3, 0.05699476534837755]\n"
     ]
    }
   ],
   "source": [
    "# summarizing finding:\n",
    "print('Best Accuracy: %.3f' % (1.0 - result.fun))\n",
    "print('Best Parameters: %s' % (result.x))"
   ]
  }
 ],
 "metadata": {
  "kernelspec": {
   "display_name": "Python 3",
   "language": "python",
   "name": "python3"
  },
  "language_info": {
   "codemirror_mode": {
    "name": "ipython",
    "version": 3
   },
   "file_extension": ".py",
   "mimetype": "text/x-python",
   "name": "python",
   "nbconvert_exporter": "python",
   "pygments_lexer": "ipython3",
   "version": "3.9.6"
  }
 },
 "nbformat": 4,
 "nbformat_minor": 5
}
