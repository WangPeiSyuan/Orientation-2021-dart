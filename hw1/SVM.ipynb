{
 "cells": [
  {
   "cell_type": "code",
   "execution_count": 1,
   "id": "decreased-breed",
   "metadata": {},
   "outputs": [],
   "source": [
    "from sklearn.datasets import load_breast_cancer\n",
    "from sklearn.model_selection import train_test_split, GridSearchCV\n",
    "import numpy as np\n",
    "import pandas as pd\n",
    "import matplotlib.pyplot as plt\n",
    "\n",
    "data = load_breast_cancer()\n",
    "X, y = load_breast_cancer(return_X_y=True)\n",
    "X_train, X_test, y_train, y_test = train_test_split(X, y, test_size=0.3, random_state=42)"
   ]
  },
  {
   "cell_type": "code",
   "execution_count": 3,
   "id": "fatal-audience",
   "metadata": {},
   "outputs": [
    {
     "name": "stdout",
     "output_type": "stream",
     "text": [
      "testing set\n",
      "accurcy: 0.935673\n",
      "precision: 0.907563\n",
      "recall: 1.000000\n",
      "f1 scorce: 0.951542\n",
      "confusion matrix:\n",
      " [[ 52  11]\n",
      " [  0 108]]\n",
      "\n",
      "training set\n",
      "accurcy: 0.899497\n",
      "precision: 0.869258\n",
      "recall: 0.987952\n",
      "f1 scorce: 0.924812\n",
      "confusion matrix:\n",
      " [[112  37]\n",
      " [  3 246]]\n"
     ]
    }
   ],
   "source": [
    "from sklearn import svm\n",
    "from sklearn.metrics import classification_report\n",
    "from sklearn.metrics import confusion_matrix\n",
    "from sklearn.metrics import accuracy_score\n",
    "from sklearn.metrics import precision_score\n",
    "from sklearn.metrics import recall_score\n",
    "from sklearn.metrics import f1_score\n",
    "\n",
    "clf = svm.SVC()\n",
    "clf.fit(X_train, y_train)\n",
    "y_pred = clf.predict(X_test)\n",
    "print(\"testing set\")\n",
    "print(\"accurcy: %f\" % accuracy_score(y_test, y_pred))\n",
    "print(\"precision: %f\" % precision_score(y_test, y_pred, zero_division=0))\n",
    "print(\"recall: %f\" % recall_score(y_test, y_pred))\n",
    "print(\"f1 scorce: %f\" % f1_score(y_test, y_pred))\n",
    "print(\"confusion matrix:\\n\", confusion_matrix(y_test, y_pred))\n",
    "y_pred = clf.predict(X_train)\n",
    "print(\"\\ntraining set\")\n",
    "print(\"accurcy: %f\" % accuracy_score(y_train, y_pred))\n",
    "print(\"precision: %f\" % precision_score(y_train, y_pred, zero_division=0))\n",
    "print(\"recall: %f\" % recall_score(y_train, y_pred))\n",
    "print(\"f1 scorce: %f\" % f1_score(y_train, y_pred))\n",
    "print(\"confusion matrix:\\n\", confusion_matrix(y_train, y_pred))"
   ]
  },
  {
   "cell_type": "code",
   "execution_count": 5,
   "id": "super-cross",
   "metadata": {},
   "outputs": [
    {
     "name": "stdout",
     "output_type": "stream",
     "text": [
      "Best Params: {'C': 3}\n",
      "testing set\n",
      "accurcy: 0.976608\n",
      "precision: 0.981481\n",
      "recall: 0.981481\n",
      "f1 scorce: 0.981481\n",
      "confusion matrix:\n",
      " [[ 61   2]\n",
      " [  2 106]]\n",
      "\n",
      "training set\n",
      "accurcy: 0.967337\n",
      "precision: 0.960938\n",
      "recall: 0.987952\n",
      "f1 scorce: 0.974257\n",
      "confusion matrix:\n",
      " [[139  10]\n",
      " [  3 246]]\n"
     ]
    }
   ],
   "source": [
    "clf = svm.SVC(kernel='linear')\n",
    "param_grid = {'C': [0.01, 0.05, 0.1, 0.2,0.3,0.4,0.5,0.6,0.7,0.8,0.9,1,2,3,4,5,6,7,8,9,10,12,13,14,15,16,16.5,17,18]}\n",
    "model = GridSearchCV(clf, param_grid=param_grid, scoring='accuracy', cv=10, n_jobs=-1)\n",
    "\n",
    "model.fit(X_train, y_train)\n",
    "\n",
    "print('Best Params:', model.best_params_)\n",
    "y_pred = model.predict(X_test)\n",
    "print(\"testing set\")\n",
    "print(\"accurcy: %f\" % accuracy_score(y_test, y_pred))\n",
    "print(\"precision: %f\" % precision_score(y_test, y_pred, zero_division=0))\n",
    "print(\"recall: %f\" % recall_score(y_test, y_pred))\n",
    "print(\"f1 scorce: %f\" % f1_score(y_test, y_pred))\n",
    "print(\"confusion matrix:\\n\", confusion_matrix(y_test, y_pred))\n",
    "y_pred = model.predict(X_train)\n",
    "print(\"\\ntraining set\")\n",
    "print(\"accurcy: %f\" % accuracy_score(y_train, y_pred))\n",
    "print(\"precision: %f\" % precision_score(y_train, y_pred, zero_division=0))\n",
    "print(\"recall: %f\" % recall_score(y_train, y_pred))\n",
    "print(\"f1 scorce: %f\" % f1_score(y_train, y_pred))\n",
    "print(\"confusion matrix:\\n\", confusion_matrix(y_train, y_pred))"
   ]
  },
  {
   "cell_type": "code",
   "execution_count": 6,
   "id": "posted-vegetable",
   "metadata": {},
   "outputs": [
    {
     "name": "stdout",
     "output_type": "stream",
     "text": [
      "Best Params: {'C': 8}\n",
      "testing set\n",
      "accurcy: 0.941520\n",
      "precision: 0.922414\n",
      "recall: 0.990741\n",
      "f1 scorce: 0.955357\n",
      "confusion matrix:\n",
      " [[ 54   9]\n",
      " [  1 107]]\n",
      "\n",
      "training set\n",
      "accurcy: 0.909548\n",
      "precision: 0.890110\n",
      "recall: 0.975904\n",
      "f1 scorce: 0.931034\n",
      "confusion matrix:\n",
      " [[119  30]\n",
      " [  6 243]]\n"
     ]
    }
   ],
   "source": [
    "clf = svm.SVC(kernel='poly')\n",
    "param_grid = {'C': [0.01, 0.05, 0.1, 0.2,0.3,0.4,0.5,0.6,0.7,0.8,0.9,1,2,3,4,5,6,7,8,9,10,12,13,14,15,16,16.5,17,18]}\n",
    "model = GridSearchCV(clf, param_grid=param_grid, scoring='accuracy', cv=10, n_jobs=-1)\n",
    "\n",
    "model.fit(X_train, y_train)\n",
    "\n",
    "print('Best Params:', model.best_params_)\n",
    "y_pred = model.predict(X_test)\n",
    "print(\"testing set\")\n",
    "print(\"accurcy: %f\" % accuracy_score(y_test, y_pred))\n",
    "print(\"precision: %f\" % precision_score(y_test, y_pred, zero_division=0))\n",
    "print(\"recall: %f\" % recall_score(y_test, y_pred))\n",
    "print(\"f1 scorce: %f\" % f1_score(y_test, y_pred))\n",
    "print(\"confusion matrix:\\n\", confusion_matrix(y_test, y_pred))\n",
    "y_pred = model.predict(X_train)\n",
    "print(\"\\ntraining set\")\n",
    "print(\"accurcy: %f\" % accuracy_score(y_train, y_pred))\n",
    "print(\"precision: %f\" % precision_score(y_train, y_pred, zero_division=0))\n",
    "print(\"recall: %f\" % recall_score(y_train, y_pred))\n",
    "print(\"f1 scorce: %f\" % f1_score(y_train, y_pred))\n",
    "print(\"confusion matrix:\\n\", confusion_matrix(y_train, y_pred))"
   ]
  },
  {
   "cell_type": "code",
   "execution_count": 7,
   "id": "flying-newsletter",
   "metadata": {},
   "outputs": [
    {
     "name": "stdout",
     "output_type": "stream",
     "text": [
      "Best Params: {'C': 4}\n",
      "testing set\n",
      "accurcy: 0.953216\n",
      "precision: 0.938596\n",
      "recall: 0.990741\n",
      "f1 scorce: 0.963964\n",
      "confusion matrix:\n",
      " [[ 56   7]\n",
      " [  1 107]]\n",
      "\n",
      "training set\n",
      "accurcy: 0.914573\n",
      "precision: 0.896679\n",
      "recall: 0.975904\n",
      "f1 scorce: 0.934615\n",
      "confusion matrix:\n",
      " [[121  28]\n",
      " [  6 243]]\n"
     ]
    }
   ],
   "source": [
    "clf = svm.SVC(kernel='rbf')\n",
    "param_grid = {'C': [0.01, 0.05, 0.1, 0.2,0.3,0.4,0.5,0.6,0.7,0.8,0.9,1,2,3,4,5,6,7,8,9,10,12,13,14,15,16,16.5,17,18]}\n",
    "model = GridSearchCV(clf, param_grid=param_grid, scoring='accuracy', cv=10, n_jobs=-1)\n",
    "\n",
    "model.fit(X_train, y_train)\n",
    "\n",
    "print('Best Params:', model.best_params_)\n",
    "y_pred = model.predict(X_test)\n",
    "print(\"testing set\")\n",
    "print(\"accurcy: %f\" % accuracy_score(y_test, y_pred))\n",
    "print(\"precision: %f\" % precision_score(y_test, y_pred, zero_division=0))\n",
    "print(\"recall: %f\" % recall_score(y_test, y_pred))\n",
    "print(\"f1 scorce: %f\" % f1_score(y_test, y_pred))\n",
    "print(\"confusion matrix:\\n\", confusion_matrix(y_test, y_pred))\n",
    "y_pred = model.predict(X_train)\n",
    "print(\"\\ntraining set\")\n",
    "print(\"accurcy: %f\" % accuracy_score(y_train, y_pred))\n",
    "print(\"precision: %f\" % precision_score(y_train, y_pred, zero_division=0))\n",
    "print(\"recall: %f\" % recall_score(y_train, y_pred))\n",
    "print(\"f1 scorce: %f\" % f1_score(y_train, y_pred))\n",
    "print(\"confusion matrix:\\n\", confusion_matrix(y_train, y_pred))"
   ]
  },
  {
   "cell_type": "code",
   "execution_count": 8,
   "id": "italic-shell",
   "metadata": {},
   "outputs": [
    {
     "name": "stdout",
     "output_type": "stream",
     "text": [
      "Best Params: {'C': 0.5}\n",
      "testing set\n",
      "accurcy: 0.631579\n",
      "precision: 0.633136\n",
      "recall: 0.990741\n",
      "f1 scorce: 0.772563\n",
      "confusion matrix:\n",
      " [[  1  62]\n",
      " [  1 107]]\n",
      "\n",
      "training set\n",
      "accurcy: 0.643216\n",
      "precision: 0.638243\n",
      "recall: 0.991968\n",
      "f1 scorce: 0.776730\n",
      "confusion matrix:\n",
      " [[  9 140]\n",
      " [  2 247]]\n"
     ]
    }
   ],
   "source": [
    "clf = svm.SVC(kernel='sigmoid')\n",
    "param_grid = {'C': [0.01, 0.05, 0.1, 0.2,0.3,0.4,0.5,0.6,0.7,0.8,0.9,1,2,3,4,5,6,7,8,9,10,12,13,14,15,16,16.5,17,18]}\n",
    "model = GridSearchCV(clf, param_grid=param_grid, scoring='accuracy', cv=10, n_jobs=-1)\n",
    "\n",
    "model.fit(X_train, y_train)\n",
    "\n",
    "print('Best Params:', model.best_params_)\n",
    "y_pred = model.predict(X_test)\n",
    "print(\"testing set\")\n",
    "print(\"accurcy: %f\" % accuracy_score(y_test, y_pred))\n",
    "print(\"precision: %f\" % precision_score(y_test, y_pred, zero_division=0))\n",
    "print(\"recall: %f\" % recall_score(y_test, y_pred))\n",
    "print(\"f1 scorce: %f\" % f1_score(y_test, y_pred))\n",
    "print(\"confusion matrix:\\n\", confusion_matrix(y_test, y_pred))\n",
    "y_pred = model.predict(X_train)\n",
    "print(\"\\ntraining set\")\n",
    "print(\"accurcy: %f\" % accuracy_score(y_train, y_pred))\n",
    "print(\"precision: %f\" % precision_score(y_train, y_pred, zero_division=0))\n",
    "print(\"recall: %f\" % recall_score(y_train, y_pred))\n",
    "print(\"f1 scorce: %f\" % f1_score(y_train, y_pred))\n",
    "print(\"confusion matrix:\\n\", confusion_matrix(y_train, y_pred))"
   ]
  }
 ],
 "metadata": {
  "kernelspec": {
   "display_name": "Python 3",
   "language": "python",
   "name": "python3"
  },
  "language_info": {
   "codemirror_mode": {
    "name": "ipython",
    "version": 3
   },
   "file_extension": ".py",
   "mimetype": "text/x-python",
   "name": "python",
   "nbconvert_exporter": "python",
   "pygments_lexer": "ipython3",
   "version": "3.7.9"
  }
 },
 "nbformat": 4,
 "nbformat_minor": 5
}
