{
 "cells": [
  {
   "cell_type": "code",
   "execution_count": 1,
   "id": "chinese-edition",
   "metadata": {},
   "outputs": [],
   "source": [
    "from sklearn.datasets import load_breast_cancer\n",
    "from sklearn.model_selection import train_test_split, GridSearchCV\n",
    "import numpy as np\n",
    "import pandas as pd\n",
    "import matplotlib.pyplot as plt\n",
    "\n",
    "data = load_breast_cancer()\n",
    "X, y = load_breast_cancer(return_X_y=True)\n",
    "X_train, X_test, y_train, y_test = train_test_split(X, y, test_size=0.3, random_state=42)"
   ]
  },
  {
   "cell_type": "code",
   "execution_count": 2,
   "id": "jewish-world",
   "metadata": {},
   "outputs": [
    {
     "data": {
      "text/plain": [
       "DecisionTreeClassifier()"
      ]
     },
     "execution_count": 2,
     "metadata": {},
     "output_type": "execute_result"
    }
   ],
   "source": [
    "from sklearn import tree\n",
    "clf = tree.DecisionTreeClassifier()\n",
    "clf.fit(X_train, y_train)\n",
    "\n",
    "# tree.plot_tree(clf) "
   ]
  },
  {
   "cell_type": "code",
   "execution_count": 3,
   "id": "blind-antigua",
   "metadata": {},
   "outputs": [
    {
     "name": "stdout",
     "output_type": "stream",
     "text": [
      "test set\n",
      "accurcy: 0.929825\n",
      "precision: 0.952830\n",
      "recall: 0.935185\n",
      "f1 scorce: 0.943925\n",
      "confusion matrix:\n",
      " [[ 58   5]\n",
      " [  7 101]]\n"
     ]
    }
   ],
   "source": [
    "from sklearn.metrics import classification_report\n",
    "from sklearn.metrics import confusion_matrix\n",
    "from sklearn.metrics import accuracy_score\n",
    "from sklearn.metrics import precision_score\n",
    "from sklearn.metrics import recall_score\n",
    "from sklearn.metrics import f1_score\n",
    "\n",
    "y_pred = clf.predict(X_test)\n",
    "print(\"test set\")\n",
    "print(\"accurcy: %f\" % accuracy_score(y_test, y_pred))\n",
    "print(\"precision: %f\" % precision_score(y_test, y_pred, zero_division=0))\n",
    "print(\"recall: %f\" % recall_score(y_test, y_pred))\n",
    "print(\"f1 scorce: %f\" % f1_score(y_test, y_pred))\n",
    "print(\"confusion matrix:\\n\", confusion_matrix(y_test, y_pred))"
   ]
  },
  {
   "cell_type": "code",
   "execution_count": 4,
   "id": "common-wichita",
   "metadata": {},
   "outputs": [
    {
     "name": "stdout",
     "output_type": "stream",
     "text": [
      "training set\n",
      "accurcy: 1.000000\n",
      "precision: 1.000000\n",
      "recall: 1.000000\n",
      "f1 scorce: 1.000000\n",
      "confusion matrix:\n",
      " [[149   0]\n",
      " [  0 249]]\n"
     ]
    }
   ],
   "source": [
    "y_pred = clf.predict(X_train)\n",
    "print(\"training set\")\n",
    "print(\"accurcy: %f\" % accuracy_score(y_train, y_pred))\n",
    "print(\"precision: %f\" % precision_score(y_train, y_pred, zero_division=0))\n",
    "print(\"recall: %f\" % recall_score(y_train, y_pred))\n",
    "print(\"f1 scorce: %f\" % f1_score(y_train, y_pred))\n",
    "print(\"confusion matrix:\\n\", confusion_matrix(y_train, y_pred))"
   ]
  },
  {
   "cell_type": "markdown",
   "id": "approved-sunday",
   "metadata": {},
   "source": [
    "### max depth=4"
   ]
  },
  {
   "cell_type": "code",
   "execution_count": 5,
   "id": "silver-productivity",
   "metadata": {},
   "outputs": [
    {
     "name": "stdout",
     "output_type": "stream",
     "text": [
      "testing set\n",
      "accurcy: 0.959064\n",
      "precision: 0.971963\n",
      "recall: 0.962963\n",
      "f1 scorce: 0.967442\n",
      "confusion matrix:\n",
      " [[ 60   3]\n",
      " [  4 104]]\n",
      "\n",
      "training set\n",
      "accurcy: 0.994975\n",
      "precision: 0.992032\n",
      "recall: 1.000000\n",
      "f1 scorce: 0.996000\n",
      "confusion matrix:\n",
      " [[147   2]\n",
      " [  0 249]]\n"
     ]
    }
   ],
   "source": [
    "clf4 = tree.DecisionTreeClassifier(max_depth=4)\n",
    "clf4.fit(X_train, y_train)\n",
    "y_pred = clf4.predict(X_test)\n",
    "print(\"testing set\")\n",
    "print(\"accurcy: %f\" % accuracy_score(y_test, y_pred))\n",
    "print(\"precision: %f\" % precision_score(y_test, y_pred, zero_division=0))\n",
    "print(\"recall: %f\" % recall_score(y_test, y_pred))\n",
    "print(\"f1 scorce: %f\" % f1_score(y_test, y_pred))\n",
    "print(\"confusion matrix:\\n\", confusion_matrix(y_test, y_pred))\n",
    "y_pred = clf4.predict(X_train)\n",
    "print(\"\\ntraining set\")\n",
    "print(\"accurcy: %f\" % accuracy_score(y_train, y_pred))\n",
    "print(\"precision: %f\" % precision_score(y_train, y_pred, zero_division=0))\n",
    "print(\"recall: %f\" % recall_score(y_train, y_pred))\n",
    "print(\"f1 scorce: %f\" % f1_score(y_train, y_pred))\n",
    "print(\"confusion matrix:\\n\", confusion_matrix(y_train, y_pred))"
   ]
  },
  {
   "cell_type": "markdown",
   "id": "golden-paper",
   "metadata": {},
   "source": [
    "### max_depth=7"
   ]
  },
  {
   "cell_type": "code",
   "execution_count": 6,
   "id": "macro-blast",
   "metadata": {},
   "outputs": [
    {
     "name": "stdout",
     "output_type": "stream",
     "text": [
      "testing set\n",
      "accurcy: 0.923977\n",
      "precision: 0.961165\n",
      "recall: 0.916667\n",
      "f1 scorce: 0.938389\n",
      "confusion matrix:\n",
      " [[59  4]\n",
      " [ 9 99]]\n",
      "\n",
      "training set\n",
      "accurcy: 1.000000\n",
      "precision: 1.000000\n",
      "recall: 1.000000\n",
      "f1 scorce: 1.000000\n",
      "confusion matrix:\n",
      " [[149   0]\n",
      " [  0 249]]\n"
     ]
    }
   ],
   "source": [
    "clf7 = tree.DecisionTreeClassifier(max_depth=7)\n",
    "clf7.fit(X_train, y_train)\n",
    "y_pred = clf7.predict(X_test)\n",
    "print(\"testing set\")\n",
    "print(\"accurcy: %f\" % accuracy_score(y_test, y_pred))\n",
    "print(\"precision: %f\" % precision_score(y_test, y_pred, zero_division=0))\n",
    "print(\"recall: %f\" % recall_score(y_test, y_pred))\n",
    "print(\"f1 scorce: %f\" % f1_score(y_test, y_pred))\n",
    "print(\"confusion matrix:\\n\", confusion_matrix(y_test, y_pred))\n",
    "y_pred = clf7.predict(X_train)\n",
    "print(\"\\ntraining set\")\n",
    "print(\"accurcy: %f\" % accuracy_score(y_train, y_pred))\n",
    "print(\"precision: %f\" % precision_score(y_train, y_pred, zero_division=0))\n",
    "print(\"recall: %f\" % recall_score(y_train, y_pred))\n",
    "print(\"f1 scorce: %f\" % f1_score(y_train, y_pred))\n",
    "print(\"confusion matrix:\\n\", confusion_matrix(y_train, y_pred))"
   ]
  },
  {
   "cell_type": "code",
   "execution_count": 10,
   "id": "headed-viewer",
   "metadata": {},
   "outputs": [
    {
     "name": "stdout",
     "output_type": "stream",
     "text": [
      "testing set\n",
      "accurcy: 0.923977\n",
      "precision: 0.961165\n",
      "recall: 0.916667\n",
      "f1 scorce: 0.938389\n",
      "confusion matrix:\n",
      " [[59  4]\n",
      " [ 9 99]]\n",
      "\n",
      "training set\n",
      "accurcy: 1.000000\n",
      "precision: 1.000000\n",
      "recall: 1.000000\n",
      "f1 scorce: 1.000000\n",
      "confusion matrix:\n",
      " [[149   0]\n",
      " [  0 249]]\n"
     ]
    }
   ],
   "source": [
    "clf11 = tree.DecisionTreeClassifier(max_depth=10)\n",
    "clf11.fit(X_train, y_train)\n",
    "y_pred = clf11.predict(X_test)\n",
    "print(\"testing set\")\n",
    "print(\"accurcy: %f\" % accuracy_score(y_test, y_pred))\n",
    "print(\"precision: %f\" % precision_score(y_test, y_pred, zero_division=0))\n",
    "print(\"recall: %f\" % recall_score(y_test, y_pred))\n",
    "print(\"f1 scorce: %f\" % f1_score(y_test, y_pred))\n",
    "print(\"confusion matrix:\\n\", confusion_matrix(y_test, y_pred))\n",
    "y_pred = clf11.predict(X_train)\n",
    "print(\"\\ntraining set\")\n",
    "print(\"accurcy: %f\" % accuracy_score(y_train, y_pred))\n",
    "print(\"precision: %f\" % precision_score(y_train, y_pred, zero_division=0))\n",
    "print(\"recall: %f\" % recall_score(y_train, y_pred))\n",
    "print(\"f1 scorce: %f\" % f1_score(y_train, y_pred))\n",
    "print(\"confusion matrix:\\n\", confusion_matrix(y_train, y_pred))"
   ]
  },
  {
   "cell_type": "code",
   "execution_count": 8,
   "id": "portable-scroll",
   "metadata": {},
   "outputs": [
    {
     "name": "stdout",
     "output_type": "stream",
     "text": [
      "Best Params: {'max_depth': 11}\n"
     ]
    }
   ],
   "source": [
    "cls = tree.DecisionTreeClassifier()\n",
    "param_grid = {\n",
    "    'max_depth': [4,5,6,7,8,9,10,11,12,13,14]}\n",
    "model = GridSearchCV(cls, param_grid=param_grid, scoring='accuracy', cv=10, n_jobs=-1)\n",
    "\n",
    "model.fit(X_train, y_train)\n",
    "\n",
    "print('Best Params:', model.best_params_)"
   ]
  },
  {
   "cell_type": "code",
   "execution_count": 9,
   "id": "interior-detective",
   "metadata": {},
   "outputs": [
    {
     "name": "stdout",
     "output_type": "stream",
     "text": [
      "testing set\n",
      "accurcy: 0.929825\n",
      "precision: 0.952830\n",
      "recall: 0.935185\n",
      "f1 scorce: 0.943925\n",
      "confusion matrix:\n",
      " [[ 58   5]\n",
      " [  7 101]]\n",
      "\n",
      "training set\n",
      "accurcy: 1.000000\n",
      "precision: 1.000000\n",
      "recall: 1.000000\n",
      "f1 scorce: 1.000000\n",
      "confusion matrix:\n",
      " [[149   0]\n",
      " [  0 249]]\n"
     ]
    }
   ],
   "source": [
    "y_pred = clf.predict(X_test)\n",
    "print(\"testing set\")\n",
    "print(\"accurcy: %f\" % accuracy_score(y_test, y_pred))\n",
    "print(\"precision: %f\" % precision_score(y_test, y_pred, zero_division=0))\n",
    "print(\"recall: %f\" % recall_score(y_test, y_pred))\n",
    "print(\"f1 scorce: %f\" % f1_score(y_test, y_pred))\n",
    "print(\"confusion matrix:\\n\", confusion_matrix(y_test, y_pred))\n",
    "y_pred = clf.predict(X_train)\n",
    "print(\"\\ntraining set\")\n",
    "print(\"accurcy: %f\" % accuracy_score(y_train, y_pred))\n",
    "print(\"precision: %f\" % precision_score(y_train, y_pred, zero_division=0))\n",
    "print(\"recall: %f\" % recall_score(y_train, y_pred))\n",
    "print(\"f1 scorce: %f\" % f1_score(y_train, y_pred))\n",
    "print(\"confusion matrix:\\n\", confusion_matrix(y_train, y_pred))"
   ]
  }
 ],
 "metadata": {
  "kernelspec": {
   "display_name": "Python 3",
   "language": "python",
   "name": "python3"
  },
  "language_info": {
   "codemirror_mode": {
    "name": "ipython",
    "version": 3
   },
   "file_extension": ".py",
   "mimetype": "text/x-python",
   "name": "python",
   "nbconvert_exporter": "python",
   "pygments_lexer": "ipython3",
   "version": "3.7.9"
  }
 },
 "nbformat": 4,
 "nbformat_minor": 5
}
