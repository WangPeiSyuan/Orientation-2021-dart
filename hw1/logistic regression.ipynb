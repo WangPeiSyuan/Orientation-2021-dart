{
 "cells": [
  {
   "cell_type": "code",
   "execution_count": 1,
   "id": "worthy-alias",
   "metadata": {},
   "outputs": [],
   "source": [
    "from sklearn.datasets import load_breast_cancer\n",
    "from sklearn.model_selection import train_test_split, GridSearchCV\n",
    "import numpy as np\n",
    "import pandas as pd\n",
    "import matplotlib.pyplot as plt\n",
    "\n",
    "data = load_breast_cancer()\n",
    "X, y = load_breast_cancer(return_X_y=True)\n",
    "X_train, X_test, y_train, y_test = train_test_split(X, y, test_size=0.3, random_state=42)"
   ]
  },
  {
   "cell_type": "code",
   "execution_count": 2,
   "id": "classical-broad",
   "metadata": {},
   "outputs": [
    {
     "name": "stderr",
     "output_type": "stream",
     "text": [
      "c:\\users\\user\\appdata\\local\\programs\\python\\python37\\lib\\site-packages\\sklearn\\linear_model\\_logistic.py:765: ConvergenceWarning: lbfgs failed to converge (status=1):\n",
      "STOP: TOTAL NO. of ITERATIONS REACHED LIMIT.\n",
      "\n",
      "Increase the number of iterations (max_iter) or scale the data as shown in:\n",
      "    https://scikit-learn.org/stable/modules/preprocessing.html\n",
      "Please also refer to the documentation for alternative solver options:\n",
      "    https://scikit-learn.org/stable/modules/linear_model.html#logistic-regression\n",
      "  extra_warning_msg=_LOGISTIC_SOLVER_CONVERGENCE_MSG)\n"
     ]
    },
    {
     "data": {
      "text/plain": [
       "LogisticRegression()"
      ]
     },
     "execution_count": 2,
     "metadata": {},
     "output_type": "execute_result"
    }
   ],
   "source": [
    "from sklearn.linear_model import LogisticRegression\n",
    "clf = LogisticRegression()\n",
    "clf.fit(X_train, y_train)\n"
   ]
  },
  {
   "cell_type": "code",
   "execution_count": 3,
   "id": "whole-brooks",
   "metadata": {},
   "outputs": [
    {
     "name": "stdout",
     "output_type": "stream",
     "text": [
      "testing set\n",
      "accurcy: 0.970760\n",
      "precision: 0.963964\n",
      "recall: 0.990741\n",
      "f1 scorce: 0.977169\n",
      "confusion matrix:\n",
      " [[ 59   4]\n",
      " [  1 107]]\n",
      "\n",
      "training set\n",
      "accurcy: 0.939698\n",
      "precision: 0.944664\n",
      "recall: 0.959839\n",
      "f1 scorce: 0.952191\n",
      "confusion matrix:\n",
      " [[135  14]\n",
      " [ 10 239]]\n"
     ]
    }
   ],
   "source": [
    "from sklearn.metrics import classification_report\n",
    "from sklearn.metrics import confusion_matrix\n",
    "from sklearn.metrics import accuracy_score\n",
    "from sklearn.metrics import precision_score\n",
    "from sklearn.metrics import recall_score\n",
    "from sklearn.metrics import f1_score\n",
    "\n",
    "y_pred = clf.predict(X_test)\n",
    "print(\"testing set\")\n",
    "print(\"accurcy: %f\" % accuracy_score(y_test, y_pred))\n",
    "print(\"precision: %f\" % precision_score(y_test, y_pred, zero_division=0))\n",
    "print(\"recall: %f\" % recall_score(y_test, y_pred))\n",
    "print(\"f1 scorce: %f\" % f1_score(y_test, y_pred))\n",
    "print(\"confusion matrix:\\n\", confusion_matrix(y_test, y_pred))\n",
    "y_pred = clf.predict(X_train)\n",
    "print(\"\\ntraining set\")\n",
    "print(\"accurcy: %f\" % accuracy_score(y_train, y_pred))\n",
    "print(\"precision: %f\" % precision_score(y_train, y_pred, zero_division=0))\n",
    "print(\"recall: %f\" % recall_score(y_train, y_pred))\n",
    "print(\"f1 scorce: %f\" % f1_score(y_train, y_pred))\n",
    "print(\"confusion matrix:\\n\", confusion_matrix(y_train, y_pred))"
   ]
  },
  {
   "cell_type": "code",
   "execution_count": 4,
   "id": "formed-cliff",
   "metadata": {},
   "outputs": [
    {
     "name": "stderr",
     "output_type": "stream",
     "text": [
      "c:\\users\\user\\appdata\\local\\programs\\python\\python37\\lib\\site-packages\\sklearn\\svm\\_base.py:986: ConvergenceWarning: Liblinear failed to converge, increase the number of iterations.\n",
      "  \"the number of iterations.\", ConvergenceWarning)\n"
     ]
    },
    {
     "name": "stdout",
     "output_type": "stream",
     "text": [
      "testing set\n",
      "accurcy: 0.959064\n",
      "precision: 0.963303\n",
      "recall: 0.972222\n",
      "f1 scorce: 0.967742\n",
      "confusion matrix:\n",
      " [[ 59   4]\n",
      " [  3 105]]\n",
      "\n",
      "training set\n",
      "accurcy: 0.954774\n",
      "precision: 0.952941\n",
      "recall: 0.975904\n",
      "f1 scorce: 0.964286\n",
      "confusion matrix:\n",
      " [[137  12]\n",
      " [  6 243]]\n"
     ]
    }
   ],
   "source": [
    "clf = LogisticRegression(penalty='l1', solver='liblinear')\n",
    "clf.fit(X_train, y_train)\n",
    "\n",
    "y_pred = clf.predict(X_test)\n",
    "print(\"testing set\")\n",
    "print(\"accurcy: %f\" % accuracy_score(y_test, y_pred))\n",
    "print(\"precision: %f\" % precision_score(y_test, y_pred, zero_division=0))\n",
    "print(\"recall: %f\" % recall_score(y_test, y_pred))\n",
    "print(\"f1 scorce: %f\" % f1_score(y_test, y_pred))\n",
    "print(\"confusion matrix:\\n\", confusion_matrix(y_test, y_pred))\n",
    "y_pred = clf.predict(X_train)\n",
    "print(\"\\ntraining set\")\n",
    "print(\"accurcy: %f\" % accuracy_score(y_train, y_pred))\n",
    "print(\"precision: %f\" % precision_score(y_train, y_pred, zero_division=0))\n",
    "print(\"recall: %f\" % recall_score(y_train, y_pred))\n",
    "print(\"f1 scorce: %f\" % f1_score(y_train, y_pred))\n",
    "print(\"confusion matrix:\\n\", confusion_matrix(y_train, y_pred))"
   ]
  },
  {
   "cell_type": "code",
   "execution_count": 6,
   "id": "compact-level",
   "metadata": {},
   "outputs": [
    {
     "name": "stdout",
     "output_type": "stream",
     "text": [
      "testing set\n",
      "accurcy: 0.964912\n",
      "precision: 0.963636\n",
      "recall: 0.981481\n",
      "f1 scorce: 0.972477\n",
      "confusion matrix:\n",
      " [[ 59   4]\n",
      " [  2 106]]\n",
      "\n",
      "training set\n",
      "accurcy: 0.952261\n",
      "precision: 0.952756\n",
      "recall: 0.971888\n",
      "f1 scorce: 0.962227\n",
      "confusion matrix:\n",
      " [[137  12]\n",
      " [  7 242]]\n"
     ]
    }
   ],
   "source": [
    "clf = LogisticRegression(penalty='l2', solver='liblinear')\n",
    "clf.fit(X_train, y_train)\n",
    "\n",
    "y_pred = clf.predict(X_test)\n",
    "print(\"testing set\")\n",
    "print(\"accurcy: %f\" % accuracy_score(y_test, y_pred))\n",
    "print(\"precision: %f\" % precision_score(y_test, y_pred, zero_division=0))\n",
    "print(\"recall: %f\" % recall_score(y_test, y_pred))\n",
    "print(\"f1 scorce: %f\" % f1_score(y_test, y_pred))\n",
    "print(\"confusion matrix:\\n\", confusion_matrix(y_test, y_pred))\n",
    "y_pred = clf.predict(X_train)\n",
    "print(\"\\ntraining set\")\n",
    "print(\"accurcy: %f\" % accuracy_score(y_train, y_pred))\n",
    "print(\"precision: %f\" % precision_score(y_train, y_pred, zero_division=0))\n",
    "print(\"recall: %f\" % recall_score(y_train, y_pred))\n",
    "print(\"f1 scorce: %f\" % f1_score(y_train, y_pred))\n",
    "print(\"confusion matrix:\\n\", confusion_matrix(y_train, y_pred))"
   ]
  },
  {
   "cell_type": "code",
   "execution_count": 5,
   "id": "young-booth",
   "metadata": {},
   "outputs": [
    {
     "name": "stdout",
     "output_type": "stream",
     "text": [
      "Best Params: {'C': 15, 'penalty': 'l1', 'solver': 'liblinear'}\n"
     ]
    },
    {
     "name": "stderr",
     "output_type": "stream",
     "text": [
      "c:\\users\\user\\appdata\\local\\programs\\python\\python37\\lib\\site-packages\\sklearn\\model_selection\\_search.py:921: UserWarning: One or more of the test scores are non-finite: [0.90955128 0.89442308 0.91698718 0.89442308        nan        nan\n",
      " 0.91948718 0.89442308 0.91955128 0.89442308        nan        nan\n",
      " 0.91698718 0.89442308 0.92705128 0.89442308        nan        nan\n",
      " 0.92705128 0.89442308 0.92955128 0.89442308        nan        nan\n",
      " 0.93455128 0.89442308 0.93705128 0.89442308        nan        nan\n",
      " 0.93455128 0.89442308 0.94205128 0.89442308        nan        nan\n",
      " 0.94205128 0.89442308 0.94205128 0.89442308        nan        nan\n",
      " 0.94455128 0.89442308 0.94205128 0.89442308        nan        nan\n",
      " 0.94705128 0.89442308 0.94705128 0.89442308        nan        nan\n",
      " 0.94705128 0.89442308 0.94705128 0.89442308        nan        nan\n",
      " 0.94448718 0.89442308 0.94705128 0.89442308        nan        nan\n",
      " 0.94698718 0.89442308 0.94705128 0.89442308        nan        nan\n",
      " 0.94705128 0.89442308 0.94705128 0.89442308        nan        nan\n",
      " 0.94955128 0.89442308 0.94698718 0.89442308        nan        nan\n",
      " 0.95198718 0.89442308 0.95205128 0.89442308        nan        nan\n",
      " 0.94948718 0.89442308 0.95205128 0.89442308        nan        nan\n",
      " 0.95198718 0.89442308 0.95205128 0.89442308        nan        nan\n",
      " 0.95698718 0.89442308 0.95455128 0.89442308        nan        nan\n",
      " 0.95698718 0.89442308 0.95455128 0.89442308        nan        nan\n",
      " 0.95698718 0.89442308 0.95455128 0.89442308        nan        nan\n",
      " 0.95698718 0.89442308 0.95705128 0.89442308        nan        nan\n",
      " 0.95955128 0.89442308 0.95455128 0.89442308        nan        nan\n",
      " 0.95955128 0.89442308 0.95455128 0.89442308        nan        nan\n",
      " 0.95955128 0.89442308 0.95455128 0.89442308        nan        nan\n",
      " 0.95961538 0.89442308 0.95455128 0.89442308        nan        nan\n",
      " 0.95711538 0.89442308 0.95455128 0.89442308        nan        nan\n",
      " 0.95711538 0.89442308 0.95198718 0.89442308        nan        nan\n",
      " 0.95711538 0.89442308 0.95455128 0.89442308        nan        nan\n",
      " 0.95711538 0.89442308 0.95705128 0.89442308        nan        nan]\n",
      "  category=UserWarning\n"
     ]
    }
   ],
   "source": [
    "logreg = LogisticRegression(random_state=121)\n",
    "param_grid = {\n",
    "    'penalty': ['l1', 'l2', 'elasticnet'],\n",
    "    'C': [0.01, 0.05, 0.1, 0.2,0.3,0.4,0.5,0.6,0.7,0.8,0.9,1,2,3,4,5,6,7,8,9,10,12,13,14,15,16,16.5,17,18],\n",
    "    'solver': ['liblinear','saga']}\n",
    "model = GridSearchCV(logreg, param_grid=param_grid, scoring='accuracy', cv=10, n_jobs=-1)\n",
    "\n",
    "model.fit(X_train, y_train)\n",
    "\n",
    "print('Best Params:', model.best_params_)"
   ]
  },
  {
   "cell_type": "code",
   "execution_count": 7,
   "id": "nuclear-running",
   "metadata": {},
   "outputs": [
    {
     "name": "stdout",
     "output_type": "stream",
     "text": [
      "testing set\n",
      "accurcy: 0.970760\n",
      "precision: 0.981308\n",
      "recall: 0.972222\n",
      "f1 scorce: 0.976744\n",
      "confusion matrix:\n",
      " [[ 61   2]\n",
      " [  3 105]]\n",
      "\n",
      "training set\n",
      "accurcy: 0.979899\n",
      "precision: 0.980080\n",
      "recall: 0.987952\n",
      "f1 scorce: 0.984000\n",
      "confusion matrix:\n",
      " [[144   5]\n",
      " [  3 246]]\n"
     ]
    }
   ],
   "source": [
    "y_pred = model.predict(X_test)\n",
    "print(\"testing set\")\n",
    "print(\"accurcy: %f\" % accuracy_score(y_test, y_pred))\n",
    "print(\"precision: %f\" % precision_score(y_test, y_pred, zero_division=0))\n",
    "print(\"recall: %f\" % recall_score(y_test, y_pred))\n",
    "print(\"f1 scorce: %f\" % f1_score(y_test, y_pred))\n",
    "print(\"confusion matrix:\\n\", confusion_matrix(y_test, y_pred))\n",
    "y_pred = model.predict(X_train)\n",
    "print(\"\\ntraining set\")\n",
    "print(\"accurcy: %f\" % accuracy_score(y_train, y_pred))\n",
    "print(\"precision: %f\" % precision_score(y_train, y_pred, zero_division=0))\n",
    "print(\"recall: %f\" % recall_score(y_train, y_pred))\n",
    "print(\"f1 scorce: %f\" % f1_score(y_train, y_pred))\n",
    "print(\"confusion matrix:\\n\", confusion_matrix(y_train, y_pred))"
   ]
  }
 ],
 "metadata": {
  "kernelspec": {
   "display_name": "Python 3",
   "language": "python",
   "name": "python3"
  },
  "language_info": {
   "codemirror_mode": {
    "name": "ipython",
    "version": 3
   },
   "file_extension": ".py",
   "mimetype": "text/x-python",
   "name": "python",
   "nbconvert_exporter": "python",
   "pygments_lexer": "ipython3",
   "version": "3.7.9"
  }
 },
 "nbformat": 4,
 "nbformat_minor": 5
}
